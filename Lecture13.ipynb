{
  "nbformat": 4,
  "nbformat_minor": 0,
  "metadata": {
    "colab": {
      "name": "Lecture13.ipynb",
      "provenance": [],
      "toc_visible": true
    },
    "kernelspec": {
      "name": "python3",
      "display_name": "Python 3"
    },
    "language_info": {
      "name": "python"
    }
  },
  "cells": [
    {
      "cell_type": "markdown",
      "source": [
        "## Classes  🗺️\n",
        "> Classes provide a means of bundling data and functionality together. Creating a new class creates a new type of object, allowing new instances of that type to be made. Each class instance can have attributes attached to it for maintaining its state. Class instances can also have methods (defined by its class) for modifying its state."
      ],
      "metadata": {
        "id": "KUX933B_Sbrn"
      }
    },
    {
      "cell_type": "markdown",
      "source": [
        "In python, we can simply define a basic class. We just have to write:\n",
        "1. `class` keyword\n",
        "2. Name of the class\n",
        "3. `:`\n",
        "\n",
        "There is a simple class definiton in the following cell:"
      ],
      "metadata": {
        "id": "6Fldx5t_Ukyy"
      }
    },
    {
      "cell_type": "code",
      "source": [
        "class class_name:\n",
        "\n",
        "    # Data members (attributes)\n",
        "    member1 = 1\n",
        "    member2 = \"two\"\n",
        "\n",
        "    # Methods\n",
        "    def greet():\n",
        "        print(\"Hello\")"
      ],
      "metadata": {
        "id": "yIgk_aKvV46y"
      },
      "execution_count": null,
      "outputs": []
    },
    {
      "cell_type": "markdown",
      "source": [
        "## Access Specifiers 🚦\n",
        "C++ has specific keywords to specify access out of a given class. Namely there are three specifiers: `private`, `protected`, and `public`.\n",
        "\n",
        "In python there is no similar keywords. Here we should change the names of attributes and methods a little bit instead of using keywords.\n",
        "\n",
        "*   **Public**: Name starts with a to z or A to z, e.g., `Foo` or `bar`. \n",
        "*   **Protected**: Name starts with one underscore, e.g., `_Foo` or `_bar`.\n",
        "*   **Private**: Name starts with two underscores (also called *dunder*), e.g., `__Foo` or `__bar`.\n",
        "\n",
        "### Caution ⚠️\n",
        "*    In C++ default specifiers are private but in Python, they are public.\n",
        "*    Adding an underscore two a name does not technically change anything. It is just conventional protected part of a class. If you are curious about this convention read [this](https://stackoverflow.com/questions/797771/python-protected-attributes).\n"
      ],
      "metadata": {
        "id": "JB8TfeEGWeQg"
      }
    },
    {
      "cell_type": "markdown",
      "source": [
        "## Class Definiton 🔧\n",
        "Let's see some C++ classes and their Pythonic equivalents!\n",
        "\n",
        "Code\n",
        "```\n",
        "class smallobj\n",
        "{\n",
        "    private:\n",
        "        int somedata;\n",
        "    public:\n",
        "        void setdata(int d)\n",
        "        { somedata = d; }\n",
        "        void showdata()\n",
        "        {\n",
        "            cout << \"Data is \" << somedata << endl;\n",
        "        }\n",
        "};\n",
        "\n",
        "int main()\n",
        "{\n",
        "    smallobj s1, s2;\n",
        "    \n",
        "    s1.setdata(1066);\n",
        "    s2.setdata(1776);\n",
        "\n",
        "    s1.showdata();\n",
        "    s2.showdata();\n",
        "    return 0;\n",
        "}\n",
        "```\n",
        "Output\n",
        "```\n",
        "Data is 1066\n",
        "Data is 1776\n",
        "```"
      ],
      "metadata": {
        "id": "z8IVdnXhdX0N"
      }
    },
    {
      "cell_type": "code",
      "source": [
        "class smallobj:\n",
        "    __somedata = None\n",
        "\n",
        "    def setdata(self, d):\n",
        "        self.__somedata = d\n",
        "    \n",
        "    def showdata(self):\n",
        "        print(\"Data is\", self.__somedata)\n",
        "\n",
        "\n",
        "if __name__ == \"__main__\":\n",
        "    s1 = smallobj()\n",
        "    s2 = smallobj()\n",
        "\n",
        "    s1.setdata(1066)\n",
        "    s2.setdata(1776)\n",
        "\n",
        "    s1.showdata()\n",
        "    s2.showdata()"
      ],
      "metadata": {
        "colab": {
          "base_uri": "https://localhost:8080/"
        },
        "id": "NIhWTenMeVEv",
        "outputId": "1209c843-e601-436c-e057-4ebbd059501c"
      },
      "execution_count": null,
      "outputs": [
        {
          "output_type": "stream",
          "name": "stdout",
          "text": [
            "Data is 1066\n",
            "Data is 1776\n"
          ]
        }
      ]
    },
    {
      "cell_type": "markdown",
      "source": [
        "We need to pass `self` as first argument to every method to class. It helps to get the current namespace. Try to run the code without it. Could you guess what the output would be?"
      ],
      "metadata": {
        "id": "poD24oB7fzTk"
      }
    },
    {
      "cell_type": "markdown",
      "source": [
        "## Example ✅\n",
        "Code\n",
        "```\n",
        "#include <iosteram>\n",
        "using namespace std;\n",
        "\n",
        "class CRectangle{\n",
        "    int x, y;\n",
        "\n",
        "    public:\n",
        "        void set_values (int, int);\n",
        "        int area () {return (x*y);}\n",
        "};\n",
        "\n",
        "void CRectangle::set_values(int a, int b){\n",
        "    x = a;\n",
        "    y = b;\n",
        "}\n",
        "\n",
        "int main(){\n",
        "    CRectangle rect;\n",
        "    rect.set_values(3, 4);\n",
        "    cout << \"area: \" << rect.area() << endl;\n",
        "    return 0;\n",
        "}\n",
        "```\n",
        "Output\n",
        "```\n",
        "area: 12\n",
        "```"
      ],
      "metadata": {
        "id": "swcE2IkJg_BR"
      }
    },
    {
      "cell_type": "code",
      "source": [
        "class PyRectangle:\n",
        "    __x = __y = None\n",
        "\n",
        "    def set_values(self, a, b):\n",
        "        self.__x = a\n",
        "        self.__y = b\n",
        "\n",
        "    def area(self):\n",
        "        return self.__x * self.__y\n",
        "\n",
        "\n",
        "if __name__ == \"__main__\":\n",
        "    rect = PyRectangle()\n",
        "    rect.set_values(3, 4)\n",
        "    print(\"area:\", rect.area())"
      ],
      "metadata": {
        "colab": {
          "base_uri": "https://localhost:8080/"
        },
        "id": "fyxZL6g6hoQc",
        "outputId": "9cc7e607-15ad-4e73-9772-00d719d8661e"
      },
      "execution_count": null,
      "outputs": [
        {
          "output_type": "stream",
          "name": "stdout",
          "text": [
            "area: 12\n"
          ]
        }
      ]
    },
    {
      "cell_type": "markdown",
      "source": [
        "## Construcrs and Destructors 🏗️\n",
        "There is no explicit constructor or destructor method in Python, as they are known in C++. Instead of that, we could use two magic methods: `__init__()` and `__del__()`. Let's look at a couple of examples:\n",
        "\n",
        "Code\n",
        "```\n",
        "#include <iosteram>\n",
        "using namespace std;\n",
        "\n",
        "class CRectangle{\n",
        "    int width, height;\n",
        "\n",
        "    public:\n",
        "        CRectangle (int, int);\n",
        "        int area () {return (width*height);}\n",
        "};\n",
        "\n",
        "void CRectangle::CRectangle(int a, int b){\n",
        "    width = a;\n",
        "    height = b;\n",
        "}\n",
        "\n",
        "int main(){\n",
        "    CRectangle rect (3, 4);\n",
        "    CRectangle rectb (5, 6);\n",
        "    cout << \"rect area: \" << rect.area() << endl;\n",
        "    cout << \"rectb area: \" << rectb.area() << endl;\n",
        "    return 0;\n",
        "}\n",
        "```\n",
        "Output\n",
        "```\n",
        "rect area: 12\n",
        "rectb area: 30\n",
        "```"
      ],
      "metadata": {
        "id": "BmKLGJR3iRUz"
      }
    },
    {
      "cell_type": "code",
      "source": [
        "class PyRectangle:\n",
        "\n",
        "    def __init__(self, a, b):\n",
        "        self.__width = a\n",
        "        self.__height = b\n",
        "\n",
        "    def area(self):\n",
        "        return self.__width * self.__height\n",
        "\n",
        "\n",
        "if __name__ == \"__main__\":\n",
        "    rect = PyRectangle(3, 4)\n",
        "    rectb = PyRectangle(5, 6)\n",
        "    print(\"rect area:\", rect.area())\n",
        "    print(\"rectb area:\", rectb.area())"
      ],
      "metadata": {
        "colab": {
          "base_uri": "https://localhost:8080/"
        },
        "id": "Av_sYFv9jSOE",
        "outputId": "39ceef73-8986-42e1-cbc7-69ec7ccd6d2c"
      },
      "execution_count": null,
      "outputs": [
        {
          "output_type": "stream",
          "name": "stdout",
          "text": [
            "rect area: 12\n",
            "rectb area: 30\n"
          ]
        }
      ]
    },
    {
      "cell_type": "markdown",
      "source": [
        "Code\n",
        "```\n",
        "class Ratio {\n",
        "    public:\n",
        "        Ratio() {cout << \"OBJECT IS BORN.\\n\";}\n",
        "        ~Ratio() {cout << \"OBJECT DIES.\\n\";}\n",
        "    private:\n",
        "        int num, den;\n",
        "};\n",
        "\n",
        "int main(){\n",
        "    {\n",
        "        Ratio x;\n",
        "        cout << \"Now x is alive.\\n\";\n",
        "    }\n",
        "\n",
        "    cout << \"Now between blocks.\\n\";\n",
        "\n",
        "    {\n",
        "        Ratio y;\n",
        "        cout << \"Now y is alive.\\n\";\n",
        "    }\n",
        "    return 0;\n",
        "}\n",
        "```\n",
        "\n",
        "Output\n",
        "```\n",
        "OBJECT IS BORN.\n",
        "Now x is alive.\n",
        "OBJECT DIES.\n",
        "Now between blocks.\n",
        "OBJECT IS BORN.\n",
        "Now y is alive.\n",
        "OBJECT DIES.\n",
        "```"
      ],
      "metadata": {
        "id": "vzi4aUe-kO4a"
      }
    },
    {
      "cell_type": "code",
      "source": [
        "class Ratio:\n",
        "    def __init__(self):\n",
        "        print(\"OBJECT IS BORN.\")\n",
        "    def __del__(self):\n",
        "        print(\"OBJECT DIES.\")\n",
        "\n",
        "if __name__ == \"__main__\":\n",
        "    x = Ratio()\n",
        "    print(\"Now x is alive.\")\n",
        "    # use del keyword to call destructor\n",
        "    del x\n",
        "\n",
        "    print(\"Now between two objects.\")\n",
        "\n",
        "    y = Ratio()\n",
        "    print(\"Now y is alive.\")\n",
        "    del y"
      ],
      "metadata": {
        "colab": {
          "base_uri": "https://localhost:8080/"
        },
        "id": "jgYgYRholCFg",
        "outputId": "cd33e24b-d2ff-4d47-dbfa-78e5e69266c4"
      },
      "execution_count": null,
      "outputs": [
        {
          "output_type": "stream",
          "name": "stdout",
          "text": [
            "OBJECT IS BORN.\n",
            "Now x is alive.\n",
            "OBJECT DIES.\n",
            "Now between two objects.\n",
            "OBJECT IS BORN.\n",
            "Now y is alive.\n",
            "OBJECT DIES.\n"
          ]
        }
      ]
    },
    {
      "cell_type": "markdown",
      "source": [
        "Code\n",
        "```\n",
        "class CRectangle{\n",
        "    int *width, *height;\n",
        "    \n",
        "    public:\n",
        "        CRectangle (int, int);\n",
        "        ~CRectangle ();\n",
        "        int area() {return ((*width)*(*height));}\n",
        "};\n",
        "\n",
        "CRectnagle::CRectnagle (int a, int b){\n",
        "    width = new int;\n",
        "    height = new int;\n",
        "    *width = a;\n",
        "    *height = b;\n",
        "}\n",
        "\n",
        "CRectnagle::~CRectnagle(){\n",
        "    delete width;\n",
        "    delete height;\n",
        "}\n",
        "\n",
        "int main(){\n",
        "    CRectnagle rect (3, 4), rectb (5, 6);\n",
        "    cout << \"rect area: \" << rect.area() << endl;\n",
        "    cout << \"rectb area: \" << rectb.area() << endl;\n",
        "    return 0;\n",
        "}\n",
        "```\n",
        "\n",
        "Output\n",
        "```\n",
        "rect area: 12\n",
        "rectb area: 30\n",
        "```"
      ],
      "metadata": {
        "id": "4ZkUDEiTlu8X"
      }
    },
    {
      "cell_type": "code",
      "source": [
        "class PyRectangle:\n",
        "\n",
        "    def __init__(self, a, b):\n",
        "        self.__width = a\n",
        "        self.__height = b\n",
        "\n",
        "    def area(self):\n",
        "        return self.__width * self.__height\n",
        "    \n",
        "    def __del__(self):\n",
        "        del self.__width\n",
        "        del self.__height\n",
        "\n",
        "\n",
        "if __name__ == \"__main__\":\n",
        "    rect = PyRectangle(3, 4)\n",
        "    rectb = PyRectangle(5, 6)\n",
        "    print(\"rect area:\", rect.area())\n",
        "    print(\"rectb area:\", rectb.area())"
      ],
      "metadata": {
        "colab": {
          "base_uri": "https://localhost:8080/"
        },
        "id": "jFvsB9_fmvRD",
        "outputId": "a1e0d1af-f038-4378-edc6-aec6b052c58b"
      },
      "execution_count": null,
      "outputs": [
        {
          "output_type": "stream",
          "name": "stdout",
          "text": [
            "rect area: 12\n",
            "rectb area: 30\n"
          ]
        }
      ]
    },
    {
      "cell_type": "markdown",
      "source": [
        "## Default and Overloaded Constructors 🛑\n",
        "Python is a dynamically typed language, so the concept of overloading simply does not apply to it. Instead of that we could use keyword arguments and default values. See the next example:"
      ],
      "metadata": {
        "id": "JMgF7f4ZnoUY"
      }
    },
    {
      "cell_type": "markdown",
      "source": [
        "Code\n",
        "```\n",
        "class ABC{\n",
        "    public:\n",
        "        ABC() {X = 0; Y = 1;}\n",
        "        ABC(int n) {X = n; Y = 1;}\n",
        "        ABC(int n, int d) {X = n; Y = d;}\n",
        "    \n",
        "    private:\n",
        "        int X, Y;\n",
        "}\n",
        "```"
      ],
      "metadata": {
        "id": "DUyVBX9roFsG"
      }
    },
    {
      "cell_type": "code",
      "source": [
        "class ABC:\n",
        "    def __init__(self, n=0, d=1):\n",
        "        self.__X = n\n",
        "        self.__Y = d\n",
        "    \n",
        "    # When you print an object, this method is being called\n",
        "    def __str__(self):\n",
        "        return \"X:{}\\tY:{}\".format(self.__X, self.__Y)\n",
        "\n",
        "a0 = ABC()\n",
        "print(a0)\n",
        "\n",
        "a1 = ABC(10)\n",
        "print(a1)\n",
        "\n",
        "a2 = ABC(10, 20)\n",
        "print(a2)"
      ],
      "metadata": {
        "colab": {
          "base_uri": "https://localhost:8080/"
        },
        "id": "GWbQkErVo9KV",
        "outputId": "3d303170-cde8-4b0a-854e-92e56cad5e5d"
      },
      "execution_count": null,
      "outputs": [
        {
          "output_type": "stream",
          "name": "stdout",
          "text": [
            "X:0\tY:1\n",
            "X:10\tY:1\n",
            "X:10\tY:20\n"
          ]
        }
      ]
    }
  ]
}