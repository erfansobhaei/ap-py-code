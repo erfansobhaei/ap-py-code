{
  "nbformat": 4,
  "nbformat_minor": 0,
  "metadata": {
    "colab": {
      "name": "Lecture16.ipynb",
      "private_outputs": true,
      "provenance": [],
      "collapsed_sections": []
    },
    "kernelspec": {
      "name": "python3",
      "display_name": "Python 3"
    },
    "language_info": {
      "name": "python"
    }
  },
  "cells": [
    {
      "cell_type": "markdown",
      "source": [
        "## Static Class Data 📌\n",
        "In Python, All variables that declared in the scope of a class, considered a static variable. That seems confusing so let's look at an example:"
      ],
      "metadata": {
        "id": "WMzKkToxChIl"
      }
    },
    {
      "cell_type": "code",
      "source": [
        "class PyExample:\n",
        "    var = 0\n",
        "\n",
        "    def __init__(self, var2 = 0):\n",
        "        self.var2 = var2\n",
        "\n",
        "print(\"(CLASS) var =\", PyExample.var)\n",
        "ex1 = PyExample(2)\n",
        "print(\"(OBJ) var = {}\\t var2 = {}\\n\".format(ex1.var, ex1.var2))\n",
        "\n",
        "PyExample.var = 23\n",
        "PyExample.var2 = 30\n",
        "\n",
        "print(\"(CLASS) var =\", PyExample.var)\n",
        "print(\"(OBJ) var = {}\\t var2 = {}\\n\".format(ex1.var, ex1.var2))\n",
        "\n",
        "ex1.var = 46\n",
        "ex1.var2 = 71\n",
        "\n",
        "print(\"(CLASS) var =\", PyExample.var)\n",
        "print(\"(OBJ) var = {}\\t var2 = {}\\n\".format(ex1.var, ex1.var2))"
      ],
      "metadata": {
        "id": "8LLktGfoEOur"
      },
      "execution_count": null,
      "outputs": []
    },
    {
      "cell_type": "markdown",
      "source": [
        "As we can see, when the `var` is being changed in class itself, the relavent variable in all instances will be changed. This system of static variables is very different from C++ and rather irrational but it is another example of Python convinience."
      ],
      "metadata": {
        "id": "kbCUWWFGEZ6_"
      }
    },
    {
      "cell_type": "markdown",
      "source": [
        "## Example ✅\n",
        "Code\n",
        "```\n",
        "class foo{\n",
        "    private:\n",
        "        static int count;\n",
        "    public:\n",
        "        foo()\n",
        "        { count++; }\n",
        "        int getcount()\n",
        "        { return count; }\n",
        "};\n",
        "\n",
        "int foo::count;\n",
        "\n",
        "int main(){\n",
        "    foo f1, f2, f3;\n",
        "    cout << \"count is \" << f1.getcount() << endl;\n",
        "    cout << \"count is \" << f2.getcount() << endl;\n",
        "    cout << \"count is \" << f3.getcount() << endl;\n",
        "    return 0;\n",
        "}\n",
        "```\n",
        "Output\n",
        "```\n",
        "count is 3\n",
        "count is 3\n",
        "count is 3\n",
        "```"
      ],
      "metadata": {
        "id": "Mn6IokbUIFGa"
      }
    },
    {
      "cell_type": "code",
      "source": [
        "class foo:\n",
        "    count = 0\n",
        "\n",
        "    def __init__(self):\n",
        "        foo.count += 1\n",
        "    \n",
        "    def getcount(self):\n",
        "        return foo.count\n",
        "\n",
        "f1 = foo()\n",
        "f2 = foo()\n",
        "f3 = foo()\n",
        "\n",
        "print(\"count is\", f1.getcount())\n",
        "print(\"count is\", f2.getcount())\n",
        "print(\"count is\", f3.getcount())"
      ],
      "metadata": {
        "id": "lJIhov1WIHzf"
      },
      "execution_count": null,
      "outputs": []
    },
    {
      "cell_type": "markdown",
      "source": [
        "Each variable bound to class is static, so if we want to access a static varibale, we need to write `class_name.variable_name` like `foo.count`.\n",
        "\n",
        "Why did we pass `self` to `getcount()`? Is it necessary? Try deleting it and see what the output will be.\n",
        "\n",
        "It is necessary because `getcount()` is a **method** not a **function**. We want to call it from an object not the class. If we just wanted to call this like `foo.getcount()`, we didn't have to put `self` there. Look at the following code cell:"
      ],
      "metadata": {
        "id": "r1_1LJy1JbgK"
      }
    },
    {
      "cell_type": "code",
      "source": [
        "class foo:\n",
        "    count = 0\n",
        "\n",
        "    def __init__(self):\n",
        "        foo.count += 1\n",
        "    \n",
        "    def getcount():\n",
        "        return foo.count\n",
        "\n",
        "f1 = foo()\n",
        "f2 = foo()\n",
        "f3 = foo()\n",
        "\n",
        "print(\"count is\", foo.getcount())\n",
        "print(\"count is\", foo.getcount())\n",
        "print(\"count is\", foo.getcount())"
      ],
      "metadata": {
        "id": "sAffm1_GKl93"
      },
      "execution_count": null,
      "outputs": []
    },
    {
      "cell_type": "markdown",
      "source": [
        "Code\n",
        "```\n",
        "class StatDemo{\n",
        "    private:\n",
        "        static int x;\n",
        "        int y;\n",
        "    public:\n",
        "        void putx(int a)\n",
        "            { x = a; }\n",
        "        void puty(int b)\n",
        "            { y = b; }\n",
        "        int getx()\n",
        "            { return x; }\n",
        "        int gety()\n",
        "            { return y; }\n",
        "};\n",
        "\n",
        "int StatDemo::x;\n",
        "\n",
        "int main(){\n",
        "    StatDemo obj1, obj2;\n",
        "    obj1.putx(5);\n",
        "    obj1.puty(10);\n",
        "    obj2.puty(20);\n",
        "\n",
        "    cout << \"x: \" << obj1.getx() << \" \" << obj2.getx() << endl;\n",
        "    cout << \"y: \" << obj1.gety() << \" \" << obj2.gety() << endl;\n",
        "\n",
        "    return 0;\n",
        "}\n",
        "```\n",
        "Output\n",
        "```\n",
        "x: 5 5\n",
        "y: 10 20\n",
        "```"
      ],
      "metadata": {
        "id": "CRhtaIovLAdi"
      }
    },
    {
      "cell_type": "code",
      "source": [
        "class StatDemo:\n",
        "    __x = 0\n",
        "\n",
        "    def __init__(self):\n",
        "        self.__y = 0\n",
        "\n",
        "    def putx(self, a):\n",
        "        StatDemo.__x = a\n",
        "    \n",
        "    def puty(self, b):\n",
        "        self.__y = b\n",
        "\n",
        "    def getx(self):\n",
        "        return StatDemo.__x\n",
        "\n",
        "    def gety(self):\n",
        "        return self.__y\n",
        "\n",
        "\n",
        "obj1 = StatDemo()\n",
        "obj2 = StatDemo()\n",
        "\n",
        "obj1.putx(5)\n",
        "obj1.puty(10)\n",
        "obj2.puty(20)\n",
        "\n",
        "print(\"x: {} {}\".format(obj1.getx(), obj2.getx()))\n",
        "print(\"y: {} {}\".format(obj1.gety(), obj2.gety()))"
      ],
      "metadata": {
        "id": "19KRj9WVLzcF"
      },
      "execution_count": null,
      "outputs": []
    },
    {
      "cell_type": "markdown",
      "source": [
        "Again when we want to access static values, we need to access it via class name just like we did : `StatDemo.__x`\n",
        "\n",
        "Why we put double underscores (dunder or `__`) behind `x` and `y`? They are private fields in C++ code so we conventionally put dunders behind private fields in Python.\n",
        "\n",
        "What is `format()` in those print statements? Well in terms of OOP C++ is better organized, but we keep saying Python is more handy so here is an example: `format()` is very useful function to design outputs and it is very powerful, refer to [this](https://docs.python.org/3/library/string.html#format-examples) for more.\n",
        "\n"
      ],
      "metadata": {
        "id": "oLfoSzSHNAg2"
      }
    },
    {
      "cell_type": "markdown",
      "source": [
        "Code\n",
        "```\n",
        "#include <iostream>\n",
        "using namespace std;\n",
        "\n",
        "class Widget{\n",
        "    public:\n",
        "        Widget() {++count;}\n",
        "        ~Widget() {--count;}\n",
        "        int numWidgets() { return count; }\n",
        "    private:\n",
        "        static int count;\n",
        "};\n",
        "\n",
        "int Widget::count = 0;\n",
        "\n",
        "void main(){\n",
        "    Widget w, x;\n",
        "    cout << \"Now there are \" << w.numWidgets() << \" widgets.\\n\"\n",
        "\n",
        "    {\n",
        "        Widget w, x, y, z;\n",
        "        cout << \"Now there are \" << w.numWidgets() << \" widgets.\\n\"\n",
        "    }\n",
        "\n",
        "    cout << \"Now there are \" << w.numWidgets() << \" widgets.\\n\"\n",
        "\n",
        "    Widget y;\n",
        "    cout << \"Now there are \" << w.numWidgets() << \" widgets.\\n\"\n",
        "}\n",
        "```\n",
        "Output\n",
        "```\n",
        "Now there are 2 widgets.\n",
        "Now there are 6 widgets.\n",
        "Now there are 2 widgets.\n",
        "Now there are 3 widgets.\n",
        "```"
      ],
      "metadata": {
        "id": "L1JjtOH4OW8T"
      }
    },
    {
      "cell_type": "code",
      "source": [
        "class Widget:\n",
        "    __count = 0\n",
        "\n",
        "    def __init__(self):\n",
        "        Widget.__count += 1\n",
        "    \n",
        "    def __del__(self):\n",
        "        Widget.__count -= 1\n",
        "\n",
        "    def numWidgets(self):\n",
        "        return Widget.__count;\n",
        "\n",
        "\n",
        "def block():\n",
        "    w = Widget()\n",
        "    x = Widget()\n",
        "    y = Widget()\n",
        "    z = Widget()\n",
        "    print(\"Now there are {} widgets.\".format(w.numWidgets()))\n",
        "\n",
        "\n",
        "\n",
        "w = Widget()\n",
        "x = Widget()\n",
        "print(\"Now there are {} widgets.\".format(w.numWidgets()))\n",
        "\n",
        "# There is no syntax for blocks in Python so we defined a function instead\n",
        "block()\n",
        "print(\"Now there are {} widgets.\".format(w.numWidgets()))\n",
        "\n",
        "y = Widget()\n",
        "print(\"Now there are {} widgets.\".format(w.numWidgets()))"
      ],
      "metadata": {
        "id": "IxCPH6SWQJPI"
      },
      "execution_count": null,
      "outputs": []
    },
    {
      "cell_type": "markdown",
      "source": [
        "## Static Methods 🔧\n",
        "There is [*decorator*](https://book.pythontips.com/en/latest/decorators.html) in Python called `staticmethod` which modify the behavior of a method to be like a static one.\n",
        "Alternatively, you can omit `self` in arguments of a method to come up with the same behavior but in this case you just be able to call this function via class not any instances. Let's look at an example:"
      ],
      "metadata": {
        "id": "vPulfM1cSO2l"
      }
    },
    {
      "cell_type": "code",
      "source": [
        "class foo:\n",
        "    def greet():\n",
        "        print(\"Hello from static world!\")\n",
        "\n",
        "\n",
        "foo.greet()\n",
        "\n",
        "bar = foo()\n",
        "# bar.greet() #raise an error because we pass self via calling the function from an instance"
      ],
      "metadata": {
        "id": "eQAbZkgMUJy6"
      },
      "execution_count": null,
      "outputs": []
    },
    {
      "cell_type": "code",
      "source": [
        "class foo:\n",
        "    @staticmethod\n",
        "    def greet():\n",
        "        print(\"Hello from static world!\")\n",
        "\n",
        "\n",
        "foo.greet()\n",
        "\n",
        "bar = foo()\n",
        "bar.greet()"
      ],
      "metadata": {
        "id": "VTD825SQVda_"
      },
      "execution_count": null,
      "outputs": []
    },
    {
      "cell_type": "markdown",
      "source": [
        "## Friend Function and Classes 🫂\n",
        "You've become familiar with Python untill now. What do you think about friending concept in Python? As you could guess there is no such thing in Python. Python tries hard to keep it as simple as possible. There is two scenarios, either you don't want anybody to access variables, so define them private (by preceding dunder) or you are okay with accessing others to the variables, so define them protected. For more info read [this](https://stackoverflow.com/questions/6338867/friending-classes-in-python) discussion.\n",
        "\n",
        "The Bottom line is Python is not intricated as C++, so it doesn't have many concepts but coding is much easier! That is why it is so easy to learn, but if you are a computer engineer you probably should learn languages like C++ first."
      ],
      "metadata": {
        "id": "2pyfBPgaVj5Q"
      }
    }
  ]
}