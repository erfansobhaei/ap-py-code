{
  "nbformat": 4,
  "nbformat_minor": 0,
  "metadata": {
    "colab": {
      "name": "Lecture15.ipynb",
      "private_outputs": true,
      "provenance": [],
      "collapsed_sections": []
    },
    "kernelspec": {
      "name": "python3",
      "display_name": "Python 3"
    },
    "language_info": {
      "name": "python"
    }
  },
  "cells": [
    {
      "cell_type": "markdown",
      "source": [
        "## Constants 🪨\n",
        "In Python, there is no any specific keyword for declaring a constant, we simply define a variable (usually uppercase name by convention). It is good practice to define constants in a seperate file and `import` them. In conclusion, Python does not have similar constanst as C++.\n",
        "\n",
        "It is possible to implement a customized version of classes with `decorators` to raise (throw) an error whenever a given attribute in class changes. This is rather an advanced infrequent Python subject, so if you really curious about it, read [this](https://stackoverflow.com/questions/2682745/how-do-i-create-a-constant-in-python) discussion."
      ],
      "metadata": {
        "id": "uA69m0LvbWQT"
      }
    },
    {
      "cell_type": "markdown",
      "source": [
        "## Objects as Arguments 🥷\n",
        "As we saw in the previous lecture file, we could simply use `copy` module to copy attributes of one object to another.\n",
        "Let's look at an example:\n",
        "\n",
        "Code\n",
        "```\n",
        "#include <iostream>\n",
        "using namespace std;\n",
        "\n",
        "class Distance{\n",
        "    private:\n",
        "        int feet;\n",
        "        float inches;\n",
        "    public:\n",
        "        Distance() : feet(0), inches (0.0)\n",
        "        { }\n",
        "\n",
        "        Distance(int ft, float in): feet(ft), inches (in)\n",
        "        { }\n",
        "\n",
        "        void getdist(){\n",
        "            cout << \"\\nEnter feet: \"; cin >> feet;\n",
        "            cout << \"Enter inches: \"; cin >> inches;\n",
        "        }\n",
        "        void showdist(){\n",
        "            cout << feet << \"Feet and\" << inches << \"Inches\\n\";\n",
        "        }\n",
        "};\n",
        "\n",
        "\n",
        "int main(){\n",
        "    Distance dist1(11, 6.25);\n",
        "    Distance dist2(dist1);\n",
        "    Distance dist3 = dist1;\n",
        "\n",
        "    cout << \"\\n dist1 = \"; dist1.showdist();\n",
        "    cout << \"\\n dist2 = \"; dist2.showdist();\n",
        "    cout << \"\\n dist3 = \"; dist3.showdist();\n",
        "    cout << endl;\n",
        "\n",
        "    return 0;\n",
        "}\n",
        "```\n",
        "Output\n",
        "```\n",
        "dist1 = 11Feet and6.25Inches\n",
        "dist2 = 11Feet and6.25Inches\n",
        "dist3 = 11Feet and6.25Inches\n",
        "```"
      ],
      "metadata": {
        "id": "WdyUcz_NeUCg"
      }
    },
    {
      "cell_type": "code",
      "source": [
        "class Distance:\n",
        "    def __init__(self, feet=0, inches=0.0):\n",
        "        self.feet = feet # Assign given argument to class attribute\n",
        "        self.inches = inches\n",
        "    \n",
        "    def getdist(self):\n",
        "        self.feet = int(input(\"\\nEnter feet:\"))\n",
        "        self.inches = float(input(\"Enter inches:\"))\n",
        "    \n",
        "    def showdist(self):\n",
        "        print(self.feet, \"Feet and\", self.inches, \"Inches\")\n"
      ],
      "metadata": {
        "id": "XZ045-OmgiJt"
      },
      "execution_count": null,
      "outputs": []
    },
    {
      "cell_type": "code",
      "source": [
        "import copy\n",
        "\n",
        "dist1 = Distance(11, 6.25)\n",
        "dist2 = copy.copy(dist1)\n",
        "dist3 = dist1\n",
        "\n",
        "print(\"\\ndist1 = \", end=\"\"); dist1.showdist()\n",
        "print(\"\\ndist2 = \", end=\"\"); dist2.showdist()\n",
        "print(\"\\ndist3 = \", end=\"\"); dist3.showdist()"
      ],
      "metadata": {
        "id": "4HI3J4YHghaq"
      },
      "execution_count": null,
      "outputs": []
    },
    {
      "cell_type": "markdown",
      "source": [
        "⚠️ Important Tips:\n",
        "1. Don't get confused with `self.feet = feet`. There is two distinct variables: one the function got as an argument, and on in the scope of the class which is specified by `self` keyword.\n",
        "\n",
        "2. `input(\"Message\")` is a built-in Python funciton for when you want to take an input from an external stream, it will show the message you pass to it, and then get a value. A very important thing to note is that, this value will be a `str` so you need to cast it in your code like `int(input(\"Enter feet\"))`.\n",
        "\n",
        "3. In general, we have to types of copy: deep copy and shallow copy which invoke slightly different concepts based on the language. You can read more about it in [Pyhon document](https://docs.python.org/3/library/copy.html#:~:text=A%20shallow%20copy%20constructs%20a,objects%20found%20in%20the%20original.). You could check the `id()` of two objects in Python to see whether they have the same address in memory or not, let's check above objects:"
      ],
      "metadata": {
        "id": "NPfCIV1_jwSK"
      }
    },
    {
      "cell_type": "code",
      "source": [
        "print(\"id(dist1)=\", id(dist1))\n",
        "print(\"id(dist2)=\", id(dist2))\n",
        "print(\"id(dist3)=\", id(dist3))"
      ],
      "metadata": {
        "id": "e_qk3YOalocY"
      },
      "execution_count": null,
      "outputs": []
    },
    {
      "cell_type": "markdown",
      "source": [
        "Did you notice the differnece? In case we used `copy.copy()`, Python interpreter actually reserved a new space in memory and copied the object inside that, but when we just assigned one object to another, it simply created a reference to the same memory space."
      ],
      "metadata": {
        "id": "CiUA6pf9mNMV"
      }
    }
  ]
}