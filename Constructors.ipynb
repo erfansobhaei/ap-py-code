{
  "nbformat": 4,
  "nbformat_minor": 0,
  "metadata": {
    "colab": {
      "name": "Lecture14.ipynb",
      "private_outputs": true,
      "provenance": []
    },
    "kernelspec": {
      "name": "python3",
      "display_name": "Python 3"
    },
    "language_info": {
      "name": "python"
    }
  },
  "cells": [
    {
      "cell_type": "markdown",
      "source": [
        "## Default Constructors 🏗️\n",
        "In Python if you do not define a constructor (aka `__init__()`) for a class, when you instantiate an object you do not need (but you can) pass any argument.\n",
        "Let's see an example: "
      ],
      "metadata": {
        "id": "JUUbBcJBoj-e"
      }
    },
    {
      "cell_type": "markdown",
      "source": [
        "Code\n",
        "```\n",
        "class CExample{\n",
        "    public:\n",
        "        int a, b, c;\n",
        "        void multiply (int n, int m) {a=n; b=m, c=a*b;};\n",
        "};\n",
        "```\n",
        "Object Creation\n",
        "```\n",
        "CExample ex;\n",
        "```\n"
      ],
      "metadata": {
        "id": "ghpOlKN3pj8V"
      }
    },
    {
      "cell_type": "code",
      "source": [
        "class PyExample:\n",
        "    def __init__(self):\n",
        "        self.a = None\n",
        "        self.b = None\n",
        "        self.c = None\n",
        "\n",
        "    def multiply(self, n, m):\n",
        "        self.a = n\n",
        "        self.b = m\n",
        "        self.c = self.a * self.b\n",
        "\n",
        "ex = PyExample();"
      ],
      "metadata": {
        "id": "TfvQ-3SSp83t"
      },
      "execution_count": null,
      "outputs": []
    },
    {
      "cell_type": "markdown",
      "source": [
        "## Example ✅\n",
        "\n",
        "Code\n",
        "```\n",
        "class Ratio{\n",
        "    public:\n",
        "        void showRatio() const{\n",
        "            cout << num << \"  num\" << den << \"  den\\n\";\n",
        "        }\n",
        "    \n",
        "    private:\n",
        "        int num, den;\n",
        "};\n",
        "\n",
        "int main(){\n",
        "    Ratio c1;\n",
        "    c1.showRatio();\n",
        "    return 0;\n",
        "}\n",
        "```\n",
        "Output\n",
        "```\n",
        "-858993460 num-858993460 den\n",
        "```\n",
        "\n",
        "Python is dynamic, so you don't need to declare things; they exist automatically in the first scope where they're assigned, so we do not actually need to declare `num` and `den` when they will not being assigned any values. But if we really want to do so (which is probably unneseccary!) we should write as follows:\n"
      ],
      "metadata": {
        "id": "yMjChCW8qYCR"
      }
    },
    {
      "cell_type": "code",
      "source": [
        "class Ratio:\n",
        "    def __init__(self):\n",
        "        self.num = None\n",
        "        self.den = None\n",
        "    \n",
        "    def showRatio(self):\n",
        "        print(self.num, \" num\", self.den, \" den\\n\")\n",
        "\n",
        "c1 = Ratio()\n",
        "c1.showRatio()"
      ],
      "metadata": {
        "id": "5xc61K88rdRD"
      },
      "execution_count": null,
      "outputs": []
    },
    {
      "cell_type": "markdown",
      "source": [
        "As we saw, we needed to specify a default value for value declaration. In C++ we do not have to that so they have some random values, but in Python this is a different story!\n",
        "\n",
        "There is a more efficient way to set default values for variables, we will see it shortly! "
      ],
      "metadata": {
        "id": "VpgSryIpr8OO"
      }
    },
    {
      "cell_type": "markdown",
      "source": [
        "## Example ✅\n",
        "\n",
        "Code\n",
        "```\n",
        "class CExample{\n",
        "    public:\n",
        "        int a, b, c;\n",
        "        CExample (int n, int m) {a=n; b=m;};\n",
        "    void multiply () {c = a*b};\n",
        "}\n",
        "```\n",
        "\n",
        "Object Creation\n",
        "```\n",
        "CExample ex (2, 3); //OK\n",
        "CExample ex; //Not OK\n",
        "```\n"
      ],
      "metadata": {
        "id": "hTfyL9j0suOb"
      }
    },
    {
      "cell_type": "code",
      "source": [
        "class PyExample:\n",
        "    def __init__(self, n, m):\n",
        "        self.a = n; self.b = m\n",
        "        self.c = None\n",
        "\n",
        "    def multiply(self):\n",
        "        self.c = self.a * self.b\n",
        "\n",
        "ex = PyExample(2, 3)\n",
        "# ex = PyExample() # will raise error!"
      ],
      "metadata": {
        "id": "_yf0gA4VtN96"
      },
      "execution_count": null,
      "outputs": []
    },
    {
      "cell_type": "markdown",
      "source": [
        "Did we used `;` in Python? How is that?!\n",
        "If you want to write multiple statements in one line, you simply can put a semicolon at the end!\n",
        "Before we move on to the next topic, let's see a great mechanic of python. Imagine you want to create a object from a class but you have not values that the constructor needs, what should you do? Well, in Pyhon you can set default values in the function defintion just like this: "
      ],
      "metadata": {
        "id": "apQlisfxuWL2"
      }
    },
    {
      "cell_type": "code",
      "source": [
        "class PyExample:\n",
        "    def __init__(self, n = 0, m = 0):\n",
        "        self.a = n; self.b = m\n",
        "        self.c = None\n",
        "\n",
        "    def multiply(self):\n",
        "        self.c = self.a * self.b\n",
        "\n",
        "ex1 = PyExample(2, 3)\n",
        "ex2 = PyExample()\n",
        "\n",
        "ex1.multiply()\n",
        "ex2.multiply()\n",
        "\n",
        "\n",
        "print(\"ex1:  \", ex1.c)\n",
        "print(\"ex2:  \", ex2.c)"
      ],
      "metadata": {
        "id": "HoxGTHAuvJpD"
      },
      "execution_count": null,
      "outputs": []
    },
    {
      "cell_type": "markdown",
      "source": [
        "If we do not pass `n` or `m` the default values will be set. Also you can pass one, and let the other be the default."
      ],
      "metadata": {
        "id": "GUw6RN6WurdI"
      }
    },
    {
      "cell_type": "markdown",
      "source": [
        "## Copy Constructor 🐾\n",
        "In Python, there is not copy constructor like C++, but you may have heard of various libraries of Python. Well, for copying, we have a library! Look at the following example:\n",
        "\n",
        "Code\n",
        "```\n",
        "CExample ex(2, 3);\n",
        "CExample ex2 (ex);\n",
        "```"
      ],
      "metadata": {
        "id": "DdWKcWvbv8NB"
      }
    },
    {
      "cell_type": "code",
      "source": [
        "import copy\n",
        "\n",
        "ex = PyExample(2, 3)\n",
        "ex2 = copy.copy(ex) # from module copy calls copy() method"
      ],
      "metadata": {
        "id": "u9JkpnYWwlll"
      },
      "execution_count": null,
      "outputs": []
    },
    {
      "cell_type": "markdown",
      "source": [
        "One of the main differences between C++ and Python is the low level accessiblities. C++ is for being precise, but Python is for being convinient. So when you are coding in Python don't be shy to use various libraries!"
      ],
      "metadata": {
        "id": "RiIZR4uBwawu"
      }
    },
    {
      "cell_type": "markdown",
      "source": [
        "When coding in C++, you can simply seperate interface from implementation, but in python there is not such thing. For finding out more refer to [this](https://stackoverflow.com/questions/12542111/separating-class-definition-and-implementation-in-python) discussion.\n",
        "\n",
        "\n",
        "In terms of keeping code clean and organized, Python provides another way. You could define document for your classes as follows:"
      ],
      "metadata": {
        "id": "FMBXumNAxT_d"
      }
    },
    {
      "cell_type": "code",
      "source": [
        "class PyExample:\n",
        "    \"\"\"\n",
        "        This class is an example of docstring\n",
        "    \"\"\"\n",
        "    def __init__(self, a=0, *args):\n",
        "        self.a = a"
      ],
      "metadata": {
        "id": "hxU0sV0rzVSo"
      },
      "execution_count": null,
      "outputs": []
    },
    {
      "cell_type": "markdown",
      "source": [
        "How can we read it? Easy! Just use `help()` built-in function."
      ],
      "metadata": {
        "id": "n4Oj1iIXzoV1"
      }
    },
    {
      "cell_type": "code",
      "source": [
        "help(PyExample)"
      ],
      "metadata": {
        "id": "Cycupr9FzxF7"
      },
      "execution_count": null,
      "outputs": []
    },
    {
      "cell_type": "markdown",
      "source": [
        "Let's see document of `copy`:"
      ],
      "metadata": {
        "id": "oaXOAw8Sz3C1"
      }
    },
    {
      "cell_type": "code",
      "source": [
        "help(copy)"
      ],
      "metadata": {
        "id": "8ZGfH-svz8Kf"
      },
      "execution_count": null,
      "outputs": []
    },
    {
      "cell_type": "markdown",
      "source": [
        "You can declare functions and classes in a `.py` file, and treat them in other files like modules. For Example if you have a file named `myTime.py` which has a function named `getHour()`, you can simply write:\n",
        "```\n",
        "import myTime\n",
        "x = myTime.getHour()\n",
        "```\n",
        "or alternatively (but not recommended):\n",
        "```\n",
        "from myTime import getHour()\n",
        "x = getHour()\n",
        "```"
      ],
      "metadata": {
        "id": "jChHZK99b6mC"
      }
    }
  ]
}
